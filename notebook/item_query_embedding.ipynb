{
 "cells": [
  {
   "cell_type": "markdown",
   "metadata": {},
   "source": [
    "# Item–Query Embedding for Search Recommendation\n",
    "\n",
    "In this e-commerce project, we focus on **embedding-based search recommendation**.  \n",
    "Queries and items are encoded with a **two-tower model**, where item embeddings are pre-computed and stored.  \n",
    "At runtime, the query embedding is compared against item embeddings using **ANN (Approximate Nearest Neighbor) search** to efficiently retrieve the most relevant products."
   ]
  },
  {
   "cell_type": "code",
   "execution_count": 4,
   "metadata": {
    "colab": {
     "base_uri": "https://localhost:8080/"
    },
    "executionInfo": {
     "elapsed": 4246,
     "status": "ok",
     "timestamp": 1688189832074,
     "user": {
      "displayName": "Tae Oh Kim",
      "userId": "13246201434683004107"
     },
     "user_tz": -540
    },
    "id": "spdpxCvrnbDl",
    "outputId": "a6964555-5714-4aa6-a5d0-71313b927c39"
   },
   "outputs": [
    {
     "name": "stdout",
     "output_type": "stream",
     "text": [
      "Requirement already satisfied: tensorflow-recommenders in /Users/teo/Desktop/recommend-ecommerce/venv/lib/python3.11/site-packages (0.7.3)\n",
      "Requirement already satisfied: absl-py>=0.1.6 in /Users/teo/Desktop/recommend-ecommerce/venv/lib/python3.11/site-packages (from tensorflow-recommenders) (1.4.0)\n",
      "Requirement already satisfied: tensorflow-macos>=2.9.0 in /Users/teo/Desktop/recommend-ecommerce/venv/lib/python3.11/site-packages (from tensorflow-recommenders) (2.15.0)\n",
      "Requirement already satisfied: astunparse>=1.6.0 in /Users/teo/Desktop/recommend-ecommerce/venv/lib/python3.11/site-packages (from tensorflow-macos>=2.9.0->tensorflow-recommenders) (1.6.3)\n",
      "Requirement already satisfied: flatbuffers>=23.5.26 in /Users/teo/Desktop/recommend-ecommerce/venv/lib/python3.11/site-packages (from tensorflow-macos>=2.9.0->tensorflow-recommenders) (25.2.10)\n",
      "Requirement already satisfied: gast!=0.5.0,!=0.5.1,!=0.5.2,>=0.2.1 in /Users/teo/Desktop/recommend-ecommerce/venv/lib/python3.11/site-packages (from tensorflow-macos>=2.9.0->tensorflow-recommenders) (0.6.0)\n",
      "Requirement already satisfied: google-pasta>=0.1.1 in /Users/teo/Desktop/recommend-ecommerce/venv/lib/python3.11/site-packages (from tensorflow-macos>=2.9.0->tensorflow-recommenders) (0.2.0)\n",
      "Requirement already satisfied: h5py>=2.9.0 in /Users/teo/Desktop/recommend-ecommerce/venv/lib/python3.11/site-packages (from tensorflow-macos>=2.9.0->tensorflow-recommenders) (3.14.0)\n",
      "Requirement already satisfied: libclang>=13.0.0 in /Users/teo/Desktop/recommend-ecommerce/venv/lib/python3.11/site-packages (from tensorflow-macos>=2.9.0->tensorflow-recommenders) (18.1.1)\n",
      "Requirement already satisfied: ml-dtypes~=0.2.0 in /Users/teo/Desktop/recommend-ecommerce/venv/lib/python3.11/site-packages (from tensorflow-macos>=2.9.0->tensorflow-recommenders) (0.2.0)\n",
      "Requirement already satisfied: numpy<2.0.0,>=1.23.5 in /Users/teo/Desktop/recommend-ecommerce/venv/lib/python3.11/site-packages (from tensorflow-macos>=2.9.0->tensorflow-recommenders) (1.26.4)\n",
      "Requirement already satisfied: opt-einsum>=2.3.2 in /Users/teo/Desktop/recommend-ecommerce/venv/lib/python3.11/site-packages (from tensorflow-macos>=2.9.0->tensorflow-recommenders) (3.4.0)\n",
      "Requirement already satisfied: packaging in /Users/teo/Desktop/recommend-ecommerce/venv/lib/python3.11/site-packages (from tensorflow-macos>=2.9.0->tensorflow-recommenders) (25.0)\n",
      "Requirement already satisfied: protobuf!=4.21.0,!=4.21.1,!=4.21.2,!=4.21.3,!=4.21.4,!=4.21.5,<5.0.0dev,>=3.20.3 in /Users/teo/Desktop/recommend-ecommerce/venv/lib/python3.11/site-packages (from tensorflow-macos>=2.9.0->tensorflow-recommenders) (3.20.3)\n",
      "Requirement already satisfied: setuptools in /Users/teo/Desktop/recommend-ecommerce/venv/lib/python3.11/site-packages (from tensorflow-macos>=2.9.0->tensorflow-recommenders) (80.9.0)\n",
      "Requirement already satisfied: six>=1.12.0 in /Users/teo/Desktop/recommend-ecommerce/venv/lib/python3.11/site-packages (from tensorflow-macos>=2.9.0->tensorflow-recommenders) (1.17.0)\n",
      "Requirement already satisfied: termcolor>=1.1.0 in /Users/teo/Desktop/recommend-ecommerce/venv/lib/python3.11/site-packages (from tensorflow-macos>=2.9.0->tensorflow-recommenders) (3.1.0)\n",
      "Requirement already satisfied: typing-extensions>=3.6.6 in /Users/teo/Desktop/recommend-ecommerce/venv/lib/python3.11/site-packages (from tensorflow-macos>=2.9.0->tensorflow-recommenders) (4.15.0)\n",
      "Requirement already satisfied: wrapt<1.15,>=1.11.0 in /Users/teo/Desktop/recommend-ecommerce/venv/lib/python3.11/site-packages (from tensorflow-macos>=2.9.0->tensorflow-recommenders) (1.14.2)\n",
      "Requirement already satisfied: tensorflow-io-gcs-filesystem>=0.23.1 in /Users/teo/Desktop/recommend-ecommerce/venv/lib/python3.11/site-packages (from tensorflow-macos>=2.9.0->tensorflow-recommenders) (0.37.1)\n",
      "Requirement already satisfied: grpcio<2.0,>=1.24.3 in /Users/teo/Desktop/recommend-ecommerce/venv/lib/python3.11/site-packages (from tensorflow-macos>=2.9.0->tensorflow-recommenders) (1.74.0)\n",
      "Requirement already satisfied: tensorboard<2.16,>=2.15 in /Users/teo/Desktop/recommend-ecommerce/venv/lib/python3.11/site-packages (from tensorflow-macos>=2.9.0->tensorflow-recommenders) (2.15.2)\n",
      "Requirement already satisfied: tensorflow-estimator<2.16,>=2.15.0 in /Users/teo/Desktop/recommend-ecommerce/venv/lib/python3.11/site-packages (from tensorflow-macos>=2.9.0->tensorflow-recommenders) (2.15.0)\n",
      "Requirement already satisfied: keras<2.16,>=2.15.0 in /Users/teo/Desktop/recommend-ecommerce/venv/lib/python3.11/site-packages (from tensorflow-macos>=2.9.0->tensorflow-recommenders) (2.15.0)\n",
      "Requirement already satisfied: google-auth<3,>=1.6.3 in /Users/teo/Desktop/recommend-ecommerce/venv/lib/python3.11/site-packages (from tensorboard<2.16,>=2.15->tensorflow-macos>=2.9.0->tensorflow-recommenders) (2.40.3)\n",
      "Requirement already satisfied: google-auth-oauthlib<2,>=0.5 in /Users/teo/Desktop/recommend-ecommerce/venv/lib/python3.11/site-packages (from tensorboard<2.16,>=2.15->tensorflow-macos>=2.9.0->tensorflow-recommenders) (1.2.2)\n",
      "Requirement already satisfied: markdown>=2.6.8 in /Users/teo/Desktop/recommend-ecommerce/venv/lib/python3.11/site-packages (from tensorboard<2.16,>=2.15->tensorflow-macos>=2.9.0->tensorflow-recommenders) (3.8.2)\n",
      "Requirement already satisfied: requests<3,>=2.21.0 in /Users/teo/Desktop/recommend-ecommerce/venv/lib/python3.11/site-packages (from tensorboard<2.16,>=2.15->tensorflow-macos>=2.9.0->tensorflow-recommenders) (2.32.5)\n",
      "Requirement already satisfied: tensorboard-data-server<0.8.0,>=0.7.0 in /Users/teo/Desktop/recommend-ecommerce/venv/lib/python3.11/site-packages (from tensorboard<2.16,>=2.15->tensorflow-macos>=2.9.0->tensorflow-recommenders) (0.7.2)\n",
      "Requirement already satisfied: werkzeug>=1.0.1 in /Users/teo/Desktop/recommend-ecommerce/venv/lib/python3.11/site-packages (from tensorboard<2.16,>=2.15->tensorflow-macos>=2.9.0->tensorflow-recommenders) (3.1.3)\n",
      "Requirement already satisfied: cachetools<6.0,>=2.0.0 in /Users/teo/Desktop/recommend-ecommerce/venv/lib/python3.11/site-packages (from google-auth<3,>=1.6.3->tensorboard<2.16,>=2.15->tensorflow-macos>=2.9.0->tensorflow-recommenders) (5.5.2)\n",
      "Requirement already satisfied: pyasn1-modules>=0.2.1 in /Users/teo/Desktop/recommend-ecommerce/venv/lib/python3.11/site-packages (from google-auth<3,>=1.6.3->tensorboard<2.16,>=2.15->tensorflow-macos>=2.9.0->tensorflow-recommenders) (0.4.2)\n",
      "Requirement already satisfied: rsa<5,>=3.1.4 in /Users/teo/Desktop/recommend-ecommerce/venv/lib/python3.11/site-packages (from google-auth<3,>=1.6.3->tensorboard<2.16,>=2.15->tensorflow-macos>=2.9.0->tensorflow-recommenders) (4.9.1)\n",
      "Requirement already satisfied: requests-oauthlib>=0.7.0 in /Users/teo/Desktop/recommend-ecommerce/venv/lib/python3.11/site-packages (from google-auth-oauthlib<2,>=0.5->tensorboard<2.16,>=2.15->tensorflow-macos>=2.9.0->tensorflow-recommenders) (2.0.0)\n",
      "Requirement already satisfied: charset_normalizer<4,>=2 in /Users/teo/Desktop/recommend-ecommerce/venv/lib/python3.11/site-packages (from requests<3,>=2.21.0->tensorboard<2.16,>=2.15->tensorflow-macos>=2.9.0->tensorflow-recommenders) (3.4.3)\n",
      "Requirement already satisfied: idna<4,>=2.5 in /Users/teo/Desktop/recommend-ecommerce/venv/lib/python3.11/site-packages (from requests<3,>=2.21.0->tensorboard<2.16,>=2.15->tensorflow-macos>=2.9.0->tensorflow-recommenders) (3.10)\n",
      "Requirement already satisfied: urllib3<3,>=1.21.1 in /Users/teo/Desktop/recommend-ecommerce/venv/lib/python3.11/site-packages (from requests<3,>=2.21.0->tensorboard<2.16,>=2.15->tensorflow-macos>=2.9.0->tensorflow-recommenders) (2.5.0)\n",
      "Requirement already satisfied: certifi>=2017.4.17 in /Users/teo/Desktop/recommend-ecommerce/venv/lib/python3.11/site-packages (from requests<3,>=2.21.0->tensorboard<2.16,>=2.15->tensorflow-macos>=2.9.0->tensorflow-recommenders) (2025.8.3)\n",
      "Requirement already satisfied: pyasn1>=0.1.3 in /Users/teo/Desktop/recommend-ecommerce/venv/lib/python3.11/site-packages (from rsa<5,>=3.1.4->google-auth<3,>=1.6.3->tensorboard<2.16,>=2.15->tensorflow-macos>=2.9.0->tensorflow-recommenders) (0.6.1)\n",
      "Requirement already satisfied: wheel<1.0,>=0.23.0 in /Users/teo/Desktop/recommend-ecommerce/venv/lib/python3.11/site-packages (from astunparse>=1.6.0->tensorflow-macos>=2.9.0->tensorflow-recommenders) (0.45.1)\n",
      "Requirement already satisfied: oauthlib>=3.0.0 in /Users/teo/Desktop/recommend-ecommerce/venv/lib/python3.11/site-packages (from requests-oauthlib>=0.7.0->google-auth-oauthlib<2,>=0.5->tensorboard<2.16,>=2.15->tensorflow-macos>=2.9.0->tensorflow-recommenders) (3.3.1)\n",
      "Requirement already satisfied: MarkupSafe>=2.1.1 in /Users/teo/Desktop/recommend-ecommerce/venv/lib/python3.11/site-packages (from werkzeug>=1.0.1->tensorboard<2.16,>=2.15->tensorflow-macos>=2.9.0->tensorflow-recommenders) (3.0.2)\n"
     ]
    }
   ],
   "source": [
    "!pip install tensorflow-recommenders"
   ]
  },
  {
   "cell_type": "code",
   "execution_count": 5,
   "metadata": {
    "colab": {
     "base_uri": "https://localhost:8080/"
    },
    "executionInfo": {
     "elapsed": 23144,
     "status": "ok",
     "timestamp": 1688189980947,
     "user": {
      "displayName": "Tae Oh Kim",
      "userId": "13246201434683004107"
     },
     "user_tz": -540
    },
    "id": "UfWpXn3TngTs",
    "outputId": "6dc149bf-18dc-4c67-9695-02ce64f25891"
   },
   "outputs": [],
   "source": [
    "# Set local data path\n",
    "rootpath = \"../Data/\""
   ]
  },
  {
   "cell_type": "code",
   "execution_count": 6,
   "metadata": {
    "colab": {
     "base_uri": "https://localhost:8080/"
    },
    "executionInfo": {
     "elapsed": 5354,
     "status": "ok",
     "timestamp": 1688189988738,
     "user": {
      "displayName": "Tae Oh Kim",
      "userId": "13246201434683004107"
     },
     "user_tz": -540
    },
    "id": "E5dpyiGcoC2m",
    "outputId": "78e2147f-6a52-4036-b3b3-b0ae65a59fd0"
   },
   "outputs": [
    {
     "name": "stdout",
     "output_type": "stream",
     "text": [
      "Requirement already satisfied: dask[complete] in /Users/teo/Desktop/recommend-ecommerce/venv/lib/python3.11/site-packages (2025.7.0)\n",
      "Requirement already satisfied: click>=8.1 in /Users/teo/Desktop/recommend-ecommerce/venv/lib/python3.11/site-packages (from dask[complete]) (8.2.1)\n",
      "Requirement already satisfied: cloudpickle>=3.0.0 in /Users/teo/Desktop/recommend-ecommerce/venv/lib/python3.11/site-packages (from dask[complete]) (3.1.1)\n",
      "Requirement already satisfied: fsspec>=2021.09.0 in /Users/teo/Desktop/recommend-ecommerce/venv/lib/python3.11/site-packages (from dask[complete]) (2025.7.0)\n",
      "Requirement already satisfied: packaging>=20.0 in /Users/teo/Desktop/recommend-ecommerce/venv/lib/python3.11/site-packages (from dask[complete]) (25.0)\n",
      "Requirement already satisfied: partd>=1.4.0 in /Users/teo/Desktop/recommend-ecommerce/venv/lib/python3.11/site-packages (from dask[complete]) (1.4.2)\n",
      "Requirement already satisfied: pyyaml>=5.3.1 in /Users/teo/Desktop/recommend-ecommerce/venv/lib/python3.11/site-packages (from dask[complete]) (6.0.2)\n",
      "Requirement already satisfied: toolz>=0.10.0 in /Users/teo/Desktop/recommend-ecommerce/venv/lib/python3.11/site-packages (from dask[complete]) (1.0.0)\n",
      "Requirement already satisfied: importlib_metadata>=4.13.0 in /Users/teo/Desktop/recommend-ecommerce/venv/lib/python3.11/site-packages (from dask[complete]) (8.7.0)\n",
      "Requirement already satisfied: pyarrow>=14.0.1 in /Users/teo/Desktop/recommend-ecommerce/venv/lib/python3.11/site-packages (from dask[complete]) (21.0.0)\n",
      "Requirement already satisfied: lz4>=4.3.2 in /Users/teo/Desktop/recommend-ecommerce/venv/lib/python3.11/site-packages (from dask[complete]) (4.4.4)\n",
      "Requirement already satisfied: zipp>=3.20 in /Users/teo/Desktop/recommend-ecommerce/venv/lib/python3.11/site-packages (from importlib_metadata>=4.13.0->dask[complete]) (3.23.0)\n",
      "Requirement already satisfied: locket in /Users/teo/Desktop/recommend-ecommerce/venv/lib/python3.11/site-packages (from partd>=1.4.0->dask[complete]) (1.0.0)\n",
      "Requirement already satisfied: numpy>=1.24 in /Users/teo/Desktop/recommend-ecommerce/venv/lib/python3.11/site-packages (from dask[complete]) (1.26.4)\n",
      "Requirement already satisfied: pandas>=2.0 in /Users/teo/Desktop/recommend-ecommerce/venv/lib/python3.11/site-packages (from dask[complete]) (2.3.2)\n",
      "Requirement already satisfied: distributed==2025.7.0 in /Users/teo/Desktop/recommend-ecommerce/venv/lib/python3.11/site-packages (from dask[complete]) (2025.7.0)\n",
      "Requirement already satisfied: bokeh>=3.1.0 in /Users/teo/Desktop/recommend-ecommerce/venv/lib/python3.11/site-packages (from dask[complete]) (3.7.3)\n",
      "Requirement already satisfied: jinja2>=2.10.3 in /Users/teo/Desktop/recommend-ecommerce/venv/lib/python3.11/site-packages (from dask[complete]) (3.1.6)\n",
      "Requirement already satisfied: msgpack>=1.0.2 in /Users/teo/Desktop/recommend-ecommerce/venv/lib/python3.11/site-packages (from distributed==2025.7.0->dask[complete]) (1.1.1)\n",
      "Requirement already satisfied: psutil>=5.8.0 in /Users/teo/Desktop/recommend-ecommerce/venv/lib/python3.11/site-packages (from distributed==2025.7.0->dask[complete]) (7.0.0)\n",
      "Requirement already satisfied: sortedcontainers>=2.0.5 in /Users/teo/Desktop/recommend-ecommerce/venv/lib/python3.11/site-packages (from distributed==2025.7.0->dask[complete]) (2.4.0)\n",
      "Requirement already satisfied: tblib>=1.6.0 in /Users/teo/Desktop/recommend-ecommerce/venv/lib/python3.11/site-packages (from distributed==2025.7.0->dask[complete]) (3.1.0)\n",
      "Requirement already satisfied: tornado>=6.2.0 in /Users/teo/Desktop/recommend-ecommerce/venv/lib/python3.11/site-packages (from distributed==2025.7.0->dask[complete]) (6.5.2)\n",
      "Requirement already satisfied: urllib3>=1.26.5 in /Users/teo/Desktop/recommend-ecommerce/venv/lib/python3.11/site-packages (from distributed==2025.7.0->dask[complete]) (2.5.0)\n",
      "Requirement already satisfied: zict>=3.0.0 in /Users/teo/Desktop/recommend-ecommerce/venv/lib/python3.11/site-packages (from distributed==2025.7.0->dask[complete]) (3.0.0)\n",
      "Requirement already satisfied: contourpy>=1.2 in /Users/teo/Desktop/recommend-ecommerce/venv/lib/python3.11/site-packages (from bokeh>=3.1.0->dask[complete]) (1.3.3)\n",
      "Requirement already satisfied: narwhals>=1.13 in /Users/teo/Desktop/recommend-ecommerce/venv/lib/python3.11/site-packages (from bokeh>=3.1.0->dask[complete]) (2.2.0)\n",
      "Requirement already satisfied: pillow>=7.1.0 in /Users/teo/Desktop/recommend-ecommerce/venv/lib/python3.11/site-packages (from bokeh>=3.1.0->dask[complete]) (11.3.0)\n",
      "Requirement already satisfied: xyzservices>=2021.09.1 in /Users/teo/Desktop/recommend-ecommerce/venv/lib/python3.11/site-packages (from bokeh>=3.1.0->dask[complete]) (2025.4.0)\n",
      "Requirement already satisfied: MarkupSafe>=2.0 in /Users/teo/Desktop/recommend-ecommerce/venv/lib/python3.11/site-packages (from jinja2>=2.10.3->dask[complete]) (3.0.2)\n",
      "Requirement already satisfied: python-dateutil>=2.8.2 in /Users/teo/Desktop/recommend-ecommerce/venv/lib/python3.11/site-packages (from pandas>=2.0->dask[complete]) (2.9.0.post0)\n",
      "Requirement already satisfied: pytz>=2020.1 in /Users/teo/Desktop/recommend-ecommerce/venv/lib/python3.11/site-packages (from pandas>=2.0->dask[complete]) (2025.2)\n",
      "Requirement already satisfied: tzdata>=2022.7 in /Users/teo/Desktop/recommend-ecommerce/venv/lib/python3.11/site-packages (from pandas>=2.0->dask[complete]) (2025.2)\n",
      "Requirement already satisfied: six>=1.5 in /Users/teo/Desktop/recommend-ecommerce/venv/lib/python3.11/site-packages (from python-dateutil>=2.8.2->pandas>=2.0->dask[complete]) (1.17.0)\n"
     ]
    }
   ],
   "source": [
    "!pip install \"dask[complete]\""
   ]
  },
  {
   "cell_type": "code",
   "execution_count": 7,
   "metadata": {
    "executionInfo": {
     "elapsed": 2092,
     "status": "ok",
     "timestamp": 1688190108650,
     "user": {
      "displayName": "Tae Oh Kim",
      "userId": "13246201434683004107"
     },
     "user_tz": -540
    },
    "id": "MM4D-AEfoS3x"
   },
   "outputs": [],
   "source": [
    "import dask.dataframe as dd\n",
    "import pandas as pd"
   ]
  },
  {
   "cell_type": "code",
   "execution_count": 8,
   "metadata": {
    "executionInfo": {
     "elapsed": 2140,
     "status": "ok",
     "timestamp": 1688190116471,
     "user": {
      "displayName": "Tae Oh Kim",
      "userId": "13246201434683004107"
     },
     "user_tz": -540
    },
    "id": "8_tVVoyQobaq"
   },
   "outputs": [
    {
     "data": {
      "text/html": [
       "<div>\n",
       "<style scoped>\n",
       "    .dataframe tbody tr th:only-of-type {\n",
       "        vertical-align: middle;\n",
       "    }\n",
       "\n",
       "    .dataframe tbody tr th {\n",
       "        vertical-align: top;\n",
       "    }\n",
       "\n",
       "    .dataframe thead th {\n",
       "        text-align: right;\n",
       "    }\n",
       "</style>\n",
       "<table border=\"1\" class=\"dataframe\">\n",
       "  <thead>\n",
       "    <tr style=\"text-align: right;\">\n",
       "      <th></th>\n",
       "      <th>id</th>\n",
       "      <th>product_uid</th>\n",
       "      <th>product_title</th>\n",
       "      <th>search_term</th>\n",
       "      <th>relevance</th>\n",
       "    </tr>\n",
       "  </thead>\n",
       "  <tbody>\n",
       "    <tr>\n",
       "      <th>0</th>\n",
       "      <td>2</td>\n",
       "      <td>100001</td>\n",
       "      <td>Simpson Strong-Tie 12-Gauge Angle</td>\n",
       "      <td>angle bracket</td>\n",
       "      <td>3.00</td>\n",
       "    </tr>\n",
       "    <tr>\n",
       "      <th>1</th>\n",
       "      <td>3</td>\n",
       "      <td>100001</td>\n",
       "      <td>Simpson Strong-Tie 12-Gauge Angle</td>\n",
       "      <td>l bracket</td>\n",
       "      <td>2.50</td>\n",
       "    </tr>\n",
       "    <tr>\n",
       "      <th>2</th>\n",
       "      <td>9</td>\n",
       "      <td>100002</td>\n",
       "      <td>BEHR Premium Textured DeckOver 1-gal. #SC-141 ...</td>\n",
       "      <td>deck over</td>\n",
       "      <td>3.00</td>\n",
       "    </tr>\n",
       "    <tr>\n",
       "      <th>3</th>\n",
       "      <td>16</td>\n",
       "      <td>100005</td>\n",
       "      <td>Delta Vero 1-Handle Shower Only Faucet Trim Ki...</td>\n",
       "      <td>rain shower head</td>\n",
       "      <td>2.33</td>\n",
       "    </tr>\n",
       "    <tr>\n",
       "      <th>4</th>\n",
       "      <td>17</td>\n",
       "      <td>100005</td>\n",
       "      <td>Delta Vero 1-Handle Shower Only Faucet Trim Ki...</td>\n",
       "      <td>shower only faucet</td>\n",
       "      <td>2.67</td>\n",
       "    </tr>\n",
       "  </tbody>\n",
       "</table>\n",
       "</div>"
      ],
      "text/plain": [
       "   id  product_uid                                      product_title  \\\n",
       "0   2       100001                  Simpson Strong-Tie 12-Gauge Angle   \n",
       "1   3       100001                  Simpson Strong-Tie 12-Gauge Angle   \n",
       "2   9       100002  BEHR Premium Textured DeckOver 1-gal. #SC-141 ...   \n",
       "3  16       100005  Delta Vero 1-Handle Shower Only Faucet Trim Ki...   \n",
       "4  17       100005  Delta Vero 1-Handle Shower Only Faucet Trim Ki...   \n",
       "\n",
       "          search_term  relevance  \n",
       "0       angle bracket       3.00  \n",
       "1           l bracket       2.50  \n",
       "2           deck over       3.00  \n",
       "3    rain shower head       2.33  \n",
       "4  shower only faucet       2.67  "
      ]
     },
     "execution_count": 8,
     "metadata": {},
     "output_type": "execute_result"
    }
   ],
   "source": [
    "# Read train.csv with Dask DataFrame\n",
    "train = dd.read_csv(\"../Data/train.csv\", encoding=\"ISO-8859-1\")\n",
    "train.head()"
   ]
  },
  {
   "cell_type": "code",
   "execution_count": 9,
   "metadata": {
    "executionInfo": {
     "elapsed": 457,
     "status": "ok",
     "timestamp": 1688190143462,
     "user": {
      "displayName": "Tae Oh Kim",
      "userId": "13246201434683004107"
     },
     "user_tz": -540
    },
    "id": "63N8ZEXRpfyw"
   },
   "outputs": [
    {
     "data": {
      "text/plain": [
       "relevance\n",
       "1.00     2105\n",
       "1.25        4\n",
       "1.33     3006\n",
       "1.50        5\n",
       "1.67     6780\n",
       "1.75        9\n",
       "2.00    11730\n",
       "2.25       11\n",
       "2.33    16060\n",
       "2.50       19\n",
       "2.67    15202\n",
       "2.75       11\n",
       "3.00    19125\n",
       "Name: count, dtype: int64"
      ]
     },
     "execution_count": 9,
     "metadata": {},
     "output_type": "execute_result"
    }
   ],
   "source": [
    "# Count unique values in the \"relevance\" column\n",
    "values = train['relevance'].value_counts()\n",
    "\n",
    "# Trigger actual computation (since Dask is lazy)\n",
    "values.compute()"
   ]
  },
  {
   "cell_type": "code",
   "execution_count": 10,
   "metadata": {
    "executionInfo": {
     "elapsed": 482,
     "status": "ok",
     "timestamp": 1688190168818,
     "user": {
      "displayName": "Tae Oh Kim",
      "userId": "13246201434683004107"
     },
     "user_tz": -540
    },
    "id": "vchZWFomp7Mm"
   },
   "outputs": [],
   "source": [
    "# Keep only rows where relevance >= 2.0 (considered \"positive\" matches)\n",
    "positive_only_train = train[train.relevance >= 2.0]\n",
    "\n",
    "# Drop id and relevance columns, keep only product/query fields\n",
    "dataset = positive_only_train.drop(['id', 'relevance'], axis=1)"
   ]
  },
  {
   "cell_type": "markdown",
   "metadata": {
    "id": "jAKQL7Frrgo6"
   },
   "source": [
    "## Features\n",
    "- **title** (Siamese network input)  \n",
    "- **id**  \n",
    "- **description**  \n",
    "\n",
    "## Preprocessing\n",
    "- **TextVectorization** (whitespace tokenization)  \n",
    "- **N-grams**  \n",
    "- **Other tokenizers**  \n",
    "\n",
    "## Models\n",
    "- **Bidirectional RNNs**  \n",
    "- **Transformers**"
   ]
  },
  {
   "cell_type": "code",
   "execution_count": 11,
   "metadata": {
    "executionInfo": {
     "elapsed": 3116,
     "status": "ok",
     "timestamp": 1688190359227,
     "user": {
      "displayName": "Tae Oh Kim",
      "userId": "13246201434683004107"
     },
     "user_tz": -540
    },
    "id": "zm3Ig7yhsHqk"
   },
   "outputs": [
    {
     "name": "stdout",
     "output_type": "stream",
     "text": [
      "2.15.0\n",
      "v0.7.3\n"
     ]
    }
   ],
   "source": [
    "import tensorflow as tf\n",
    "import tensorflow_recommenders as tfrs\n",
    "print(tf.__version__)\n",
    "print(tfrs.__version__)"
   ]
  },
  {
   "cell_type": "code",
   "execution_count": 12,
   "metadata": {
    "executionInfo": {
     "elapsed": 3489,
     "status": "ok",
     "timestamp": 1688190379500,
     "user": {
      "displayName": "Tae Oh Kim",
      "userId": "13246201434683004107"
     },
     "user_tz": -540
    },
    "id": "zGOMbmgUqaCu"
   },
   "outputs": [
    {
     "name": "stderr",
     "output_type": "stream",
     "text": [
      "2025-08-29 03:14:08.252239: I metal_plugin/src/device/metal_device.cc:1154] Metal device set to: Apple M3\n",
      "2025-08-29 03:14:08.252257: I metal_plugin/src/device/metal_device.cc:296] systemMemory: 16.00 GB\n",
      "2025-08-29 03:14:08.252261: I metal_plugin/src/device/metal_device.cc:313] maxCacheSize: 5.33 GB\n",
      "2025-08-29 03:14:08.252646: I tensorflow/core/common_runtime/pluggable_device/pluggable_device_factory.cc:306] Could not identify NUMA node of platform GPU ID 0, defaulting to 0. Your kernel may not have been built with NUMA support.\n",
      "2025-08-29 03:14:08.252992: I tensorflow/core/common_runtime/pluggable_device/pluggable_device_factory.cc:272] Created TensorFlow device (/job:localhost/replica:0/task:0/device:GPU:0 with 0 MB memory) -> physical PluggableDevice (device: 0, name: METAL, pci bus id: <undefined>)\n"
     ]
    }
   ],
   "source": [
    "ds = tf.data.Dataset.from_tensor_slices(dict(dataset.compute()))"
   ]
  },
  {
   "cell_type": "code",
   "execution_count": 13,
   "metadata": {
    "executionInfo": {
     "elapsed": 800,
     "status": "ok",
     "timestamp": 1688190391187,
     "user": {
      "displayName": "Tae Oh Kim",
      "userId": "13246201434683004107"
     },
     "user_tz": -540
    },
    "id": "uScJhZCPuVrf"
   },
   "outputs": [],
   "source": [
    "product_title = ds.map(lambda x: x['product_title'])\n",
    "query = ds.map(lambda x: x['search_term'])\n",
    "text_ds = product_title.concatenate(query)"
   ]
  },
  {
   "cell_type": "code",
   "execution_count": 14,
   "metadata": {
    "colab": {
     "base_uri": "https://localhost:8080/"
    },
    "executionInfo": {
     "elapsed": 12,
     "status": "ok",
     "timestamp": 1688190397421,
     "user": {
      "displayName": "Tae Oh Kim",
      "userId": "13246201434683004107"
     },
     "user_tz": -540
    },
    "id": "8lwNspWfsPzD",
    "outputId": "0da6ea88-48fc-4193-ae4a-410869a716f4"
   },
   "outputs": [
    {
     "name": "stdout",
     "output_type": "stream",
     "text": [
      "{'product_uid': array([100001, 100001]), 'product_title': array([b'Simpson Strong-Tie 12-Gauge Angle',\n",
      "       b'Simpson Strong-Tie 12-Gauge Angle'], dtype=object), 'search_term': array([b'angle bracket', b'l bracket'], dtype=object)}\n"
     ]
    }
   ],
   "source": [
    "for i in ds.take(2).batch(2).as_numpy_iterator():\n",
    "    print(i)"
   ]
  },
  {
   "cell_type": "markdown",
   "metadata": {
    "id": "jcmOzAB2u-OY"
   },
   "source": [
    "---\n",
    "- Split based on whitespace"
   ]
  },
  {
   "cell_type": "code",
   "execution_count": 15,
   "metadata": {
    "executionInfo": {
     "elapsed": 471,
     "status": "ok",
     "timestamp": 1688190474305,
     "user": {
      "displayName": "Tae Oh Kim",
      "userId": "13246201434683004107"
     },
     "user_tz": -540
    },
    "id": "8GrOrGDwtZl-"
   },
   "outputs": [],
   "source": [
    "vectorization = tf.keras.layers.TextVectorization(\n",
    "    max_tokens=1000,  # very small vocabulary size\n",
    "    output_mode='int',\n",
    "    output_sequence_length=15  # pad or truncate sequences to length 15\n",
    ")"
   ]
  },
  {
   "cell_type": "code",
   "execution_count": 16,
   "metadata": {
    "executionInfo": {
     "elapsed": 3909,
     "status": "ok",
     "timestamp": 1688190506555,
     "user": {
      "displayName": "Tae Oh Kim",
      "userId": "13246201434683004107"
     },
     "user_tz": -540
    },
    "id": "RLl0tL-LuC46"
   },
   "outputs": [
    {
     "name": "stderr",
     "output_type": "stream",
     "text": [
      "2025-08-29 03:14:08.441110: I tensorflow/core/grappler/optimizers/custom_graph_optimizer_registry.cc:117] Plugin optimizer for device_type GPU is enabled.\n"
     ]
    }
   ],
   "source": [
    "vectorization.adapt(\n",
    "    text_ds.batch(256)\n",
    ")"
   ]
  },
  {
   "cell_type": "code",
   "execution_count": 17,
   "metadata": {
    "executionInfo": {
     "elapsed": 465,
     "status": "ok",
     "timestamp": 1688190513142,
     "user": {
      "displayName": "Tae Oh Kim",
      "userId": "13246201434683004107"
     },
     "user_tz": -540
    },
    "id": "frPVJss9y1gN"
   },
   "outputs": [],
   "source": [
    "vocabs = {key: value for key, value in enumerate(vectorization.get_vocabulary())}"
   ]
  },
  {
   "cell_type": "code",
   "execution_count": 18,
   "metadata": {
    "executionInfo": {
     "elapsed": 505,
     "status": "ok",
     "timestamp": 1688190517698,
     "user": {
      "displayName": "Tae Oh Kim",
      "userId": "13246201434683004107"
     },
     "user_tz": -540
    },
    "id": "M4lq8c9mzcQo"
   },
   "outputs": [],
   "source": [
    "import numpy as np"
   ]
  },
  {
   "cell_type": "code",
   "execution_count": 19,
   "metadata": {
    "colab": {
     "base_uri": "https://localhost:8080/"
    },
    "executionInfo": {
     "elapsed": 483,
     "status": "ok",
     "timestamp": 1688190541782,
     "user": {
      "displayName": "Tae Oh Kim",
      "userId": "13246201434683004107"
     },
     "user_tz": -540
    },
    "id": "q_oZRXp-tzso",
    "outputId": "2040fb29-d9bc-4060-e4da-ce1c06cc5308"
   },
   "outputs": [
    {
     "name": "stdout",
     "output_type": "stream",
     "text": [
      "[b'Simpson Strong-Tie 12-Gauge Angle']\n",
      "[441 608   1 379   0   0   0   0   0   0   0   0   0   0   0]\n",
      "['simpson', 'strongtie', '[UNK]', 'angle', '', '', '', '', '', '', '', '', '', '', '']\n",
      "[379 301   0   0   0   0   0   0   0   0   0   0   0   0   0]\n",
      "['angle', 'bracket', '', '', '', '', '', '', '', '', '', '', '', '', '']\n"
     ]
    }
   ],
   "source": [
    "# Inspect a single example to verify tokenization and vocabulary mapping\n",
    "for i in ds.take(1).batch(1).as_numpy_iterator():\n",
    "    # Show raw product title\n",
    "    print(i['product_title'])\n",
    "\n",
    "    # Vectorize the product title -> integer token IDs\n",
    "    vector = np.squeeze(vectorization(i['product_title']))\n",
    "    print(vector)\n",
    "\n",
    "    # Map token IDs back to vocabulary strings (for readability/debugging)\n",
    "    print([vocabs[idx] for idx in vector])\n",
    "\n",
    "    # Vectorize the search term as well -> integer token IDs\n",
    "    vector = np.squeeze(vectorization(i['search_term']))\n",
    "    print(vector)\n",
    "\n",
    "    # Map search-term token IDs back to vocabulary strings\n",
    "    print([vocabs[idx] for idx in vector])"
   ]
  },
  {
   "cell_type": "code",
   "execution_count": 20,
   "metadata": {
    "executionInfo": {
     "elapsed": 2541,
     "status": "ok",
     "timestamp": 1688190711848,
     "user": {
      "displayName": "Tae Oh Kim",
      "userId": "13246201434683004107"
     },
     "user_tz": -540
    },
    "id": "0Jwwxbp1sotb"
   },
   "outputs": [],
   "source": [
    "# Share the same tower for both inputs\n",
    "text_model = tf.keras.Sequential([\n",
    "    vectorization,  # [batch, 1] -> [batch, 15]\n",
    "    tf.keras.layers.Embedding(1001, 8),  # [batch, 15] -> [batch, 15, 8]\n",
    "    tf.keras.layers.Bidirectional(tf.keras.layers.LSTM(8))  # outputs 16 (8 + 8)\n",
    "])"
   ]
  },
  {
   "cell_type": "code",
   "execution_count": 21,
   "metadata": {
    "colab": {
     "base_uri": "https://localhost:8080/"
    },
    "executionInfo": {
     "elapsed": 4623,
     "status": "ok",
     "timestamp": 1688190725366,
     "user": {
      "displayName": "Tae Oh Kim",
      "userId": "13246201434683004107"
     },
     "user_tz": -540
    },
    "id": "doyeCiRgv9Ke",
    "outputId": "7242103e-206b-431c-8a2e-4380bfa81af5"
   },
   "outputs": [
    {
     "name": "stdout",
     "output_type": "stream",
     "text": [
      "tf.Tensor(\n",
      "[[ 0.01280924 -0.00461081 -0.00430214 -0.01854529  0.04298591  0.00845828\n",
      "  -0.00602569 -0.00293244  0.00237849  0.01971872 -0.02133274 -0.00399088\n",
      "   0.00746611  0.01153365  0.00877599  0.00580332]\n",
      " [ 0.01280924 -0.00461081 -0.00430214 -0.01854529  0.04298591  0.00845828\n",
      "  -0.00602569 -0.00293244  0.00237849  0.01971872 -0.02133274 -0.00399088\n",
      "   0.00746611  0.01153365  0.00877599  0.00580332]], shape=(2, 16), dtype=float32)\n"
     ]
    }
   ],
   "source": [
    "# Take 2 examples from the dataset, batch them, and convert to NumPy\n",
    "for i in ds.take(2).batch(2).as_numpy_iterator():\n",
    "    # Pass product_title through the text_model and print the embeddings\n",
    "    print(text_model(i['product_title']))"
   ]
  },
  {
   "cell_type": "code",
   "execution_count": 22,
   "metadata": {
    "executionInfo": {
     "elapsed": 482,
     "status": "ok",
     "timestamp": 1688190769956,
     "user": {
      "displayName": "Tae Oh Kim",
      "userId": "13246201434683004107"
     },
     "user_tz": -540
    },
    "id": "wHo17lNdwB8T"
   },
   "outputs": [],
   "source": [
    "# Define a Siamese Network using TensorFlow Recommenders\n",
    "class SiameseNetwork(tfrs.Model):\n",
    "    def __init__(self, model, **kwargs):\n",
    "        super().__init__(**kwargs)\n",
    "        self.model = model\n",
    "        # Define retrieval task with Top-K metrics\n",
    "        self.task = tfrs.tasks.Retrieval(\n",
    "            metrics=[tfrs.metrics.FactorizedTopK(\n",
    "                product_title.batch(128).map(model))]\n",
    "        )\n",
    "\n",
    "    def compute_loss(self, features, training=False):\n",
    "        # Encode search_term into query embeddings\n",
    "        query_embedding = self.model(features['search_term'])\n",
    "        # Encode product_title into item embeddings\n",
    "        title_embedding = self.model(features['product_title'])\n",
    "\n",
    "        # Compute retrieval loss between query and item embeddings\n",
    "        return self.task(query_embedding, title_embedding)"
   ]
  },
  {
   "cell_type": "code",
   "execution_count": 23,
   "metadata": {
    "executionInfo": {
     "elapsed": 751,
     "status": "ok",
     "timestamp": 1688190773873,
     "user": {
      "displayName": "Tae Oh Kim",
      "userId": "13246201434683004107"
     },
     "user_tz": -540
    },
    "id": "dy19SLFYxWn0"
   },
   "outputs": [],
   "source": [
    "# Initialize Siamese network with the shared text_model\n",
    "siamese = SiameseNetwork(text_model)\n",
    "\n",
    "# Compile the model with Adam optimizer\n",
    "siamese.compile(optimizer='adam')"
   ]
  },
  {
   "cell_type": "code",
   "execution_count": 24,
   "metadata": {
    "executionInfo": {
     "elapsed": 2,
     "status": "ok",
     "timestamp": 1688190784086,
     "user": {
      "displayName": "Tae Oh Kim",
      "userId": "13246201434683004107"
     },
     "user_tz": -540
    },
    "id": "hxV-ouZ7xhxu"
   },
   "outputs": [],
   "source": [
    "# Prepare the training dataset\n",
    "ds_train = (\n",
    "    ds.map(lambda x: {\n",
    "        \"search_term\": x['search_term'],       # input query\n",
    "        \"product_title\": x['product_title']    # target product\n",
    "    })\n",
    "    .shuffle(1000)   # shuffle dataset with buffer size 1000\n",
    "    .batch(256)      # batch into groups of 256\n",
    "    .cache()         # cache for faster subsequent epochs\n",
    ")"
   ]
  },
  {
   "cell_type": "code",
   "execution_count": 25,
   "metadata": {
    "colab": {
     "base_uri": "https://localhost:8080/"
    },
    "id": "JFej7ihXx1-s",
    "outputId": "25dd314b-f814-4557-ebbf-1a7abc32f5f5"
   },
   "outputs": [
    {
     "name": "stdout",
     "output_type": "stream",
     "text": [
      "243/243 [==============================] - 299s 1s/step - factorized_top_k/top_1_categorical_accuracy: 0.0000e+00 - factorized_top_k/top_5_categorical_accuracy: 1.9306e-04 - factorized_top_k/top_10_categorical_accuracy: 3.7002e-04 - factorized_top_k/top_50_categorical_accuracy: 0.0025 - factorized_top_k/top_100_categorical_accuracy: 0.0049 - loss: 1337.8237 - regularization_loss: 0.0000e+00 - total_loss: 1337.8237\n"
     ]
    },
    {
     "data": {
      "text/plain": [
       "<keras.src.callbacks.History at 0x30bea4d90>"
      ]
     },
     "execution_count": 25,
     "metadata": {},
     "output_type": "execute_result"
    }
   ],
   "source": [
    "siamese.fit(ds_train, epochs=1)"
   ]
  },
  {
   "cell_type": "code",
   "execution_count": 26,
   "metadata": {
    "colab": {
     "base_uri": "https://localhost:8080/"
    },
    "executionInfo": {
     "elapsed": 11875,
     "status": "ok",
     "timestamp": 1686292689397,
     "user": {
      "displayName": "Tae Oh Kim",
      "userId": "13246201434683004107"
     },
     "user_tz": -540
    },
    "id": "YQWvPBfn31sm",
    "outputId": "b4c1c9cf-a028-4bdf-f54b-2551b74c2aab"
   },
   "outputs": [
    {
     "name": "stdout",
     "output_type": "stream",
     "text": [
      "WARNING:tensorflow:Compiled the loaded model, but the compiled metrics have yet to be built. `model.compile_metrics` will be empty until you train or evaluate the model.\n",
      "INFO:tensorflow:Assets written to: ../Data/siamese_white_space/assets\n"
     ]
    },
    {
     "name": "stderr",
     "output_type": "stream",
     "text": [
      "INFO:tensorflow:Assets written to: ../Data/siamese_white_space/assets\n"
     ]
    }
   ],
   "source": [
    "siamese.model.save(rootpath + \"siamese_white_space\")"
   ]
  },
  {
   "cell_type": "code",
   "execution_count": 27,
   "metadata": {
    "id": "fXxacrBL_mwf"
   },
   "outputs": [],
   "source": [
    "items = train[['product_uid', 'product_title']].drop_duplicates().compute()"
   ]
  },
  {
   "cell_type": "code",
   "execution_count": 28,
   "metadata": {
    "id": "d8-LbfJkBRVm"
   },
   "outputs": [],
   "source": [
    "items_ds = tf.data.Dataset.from_tensor_slices(dict(items))"
   ]
  },
  {
   "cell_type": "code",
   "execution_count": 29,
   "metadata": {
    "colab": {
     "base_uri": "https://localhost:8080/"
    },
    "executionInfo": {
     "elapsed": 2956,
     "status": "ok",
     "timestamp": 1686295130523,
     "user": {
      "displayName": "Tae Oh Kim",
      "userId": "13246201434683004107"
     },
     "user_tz": -540
    },
    "id": "i0oeFw6E4SpM",
    "outputId": "a1604256-af46-4b80-8253-98f39e60e77d"
   },
   "outputs": [
    {
     "name": "stdout",
     "output_type": "stream",
     "text": [
      "214/214 [==============================] - 1s 4ms/step\n"
     ]
    }
   ],
   "source": [
    "embeddings = siamese.model.predict(items_ds.map(lambda x: x['product_title']).batch(256))"
   ]
  },
  {
   "cell_type": "code",
   "execution_count": 30,
   "metadata": {
    "id": "CYLATuBA_veI"
   },
   "outputs": [],
   "source": [
    "# Save computed embeddings as a NumPy binary file\n",
    "with open(\"../Data/embedding.npy\", \"wb\") as f:\n",
    "    np.save(f, embeddings)"
   ]
  },
  {
   "cell_type": "code",
   "execution_count": 31,
   "metadata": {
    "colab": {
     "base_uri": "https://localhost:8080/"
    },
    "executionInfo": {
     "elapsed": 4857,
     "status": "ok",
     "timestamp": 1686295639922,
     "user": {
      "displayName": "Tae Oh Kim",
      "userId": "13246201434683004107"
     },
     "user_tz": -540
    },
    "id": "pPtham5cDHEg",
    "outputId": "60c5bc1d-8513-41ec-a252-32790efd9dde"
   },
   "outputs": [
    {
     "name": "stdout",
     "output_type": "stream",
     "text": [
      "WARNING:tensorflow:No training configuration found in save file, so the model was *not* compiled. Compile it manually.\n"
     ]
    },
    {
     "name": "stderr",
     "output_type": "stream",
     "text": [
      "WARNING:tensorflow:No training configuration found in save file, so the model was *not* compiled. Compile it manually.\n"
     ]
    }
   ],
   "source": [
    "new_model = tf.keras.models.load_model(rootpath + \"siamese_white_space\")"
   ]
  },
  {
   "cell_type": "code",
   "execution_count": 32,
   "metadata": {
    "colab": {
     "base_uri": "https://localhost:8080/"
    },
    "executionInfo": {
     "elapsed": 937,
     "status": "ok",
     "timestamp": 1686295684603,
     "user": {
      "displayName": "Tae Oh Kim",
      "userId": "13246201434683004107"
     },
     "user_tz": -540
    },
    "id": "Jiwph5MvDLpr",
    "outputId": "f0ef424e-37ec-449d-85bd-7361ab6b6d81"
   },
   "outputs": [
    {
     "name": "stdout",
     "output_type": "stream",
     "text": [
      "1/1 [==============================] - 1s 1s/step\n"
     ]
    },
    {
     "data": {
      "text/plain": [
       "array([[-0.07317442, -0.21368533, -0.39363   , -0.06072724, -0.7076145 ,\n",
       "         0.48943055,  0.5004328 ,  0.23205033, -0.16328764,  0.17384724,\n",
       "        -0.46296415, -0.22964033, -0.20018947,  0.260493  , -0.13107312,\n",
       "        -0.3654328 ]], dtype=float32)"
      ]
     },
     "execution_count": 32,
     "metadata": {},
     "output_type": "execute_result"
    }
   ],
   "source": [
    "new_model.predict(np.array(['desk']))"
   ]
  }
 ],
 "metadata": {
  "accelerator": "GPU",
  "colab": {
   "authorship_tag": "ABX9TyN3FwjjmGdrDKE6nplWSG/f",
   "gpuType": "T4",
   "provenance": []
  },
  "kernelspec": {
   "display_name": "venv",
   "language": "python",
   "name": "python3"
  },
  "language_info": {
   "codemirror_mode": {
    "name": "ipython",
    "version": 3
   },
   "file_extension": ".py",
   "mimetype": "text/x-python",
   "name": "python",
   "nbconvert_exporter": "python",
   "pygments_lexer": "ipython3",
   "version": "3.11.13"
  }
 },
 "nbformat": 4,
 "nbformat_minor": 0
}
