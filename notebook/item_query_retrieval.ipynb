{
 "cells": [
  {
   "cell_type": "code",
   "execution_count": 2,
   "metadata": {
    "colab": {
     "base_uri": "https://localhost:8080/"
    },
    "executionInfo": {
     "elapsed": 21859,
     "status": "ok",
     "timestamp": 1688191147816,
     "user": {
      "displayName": "Tae Oh Kim",
      "userId": "13246201434683004107"
     },
     "user_tz": -540
    },
    "id": "1yic4m64FJpQ",
    "outputId": "35908609-d962-4265-c329-80373e4b9452"
   },
   "outputs": [
    {
     "name": "stdout",
     "output_type": "stream",
     "text": [
      "Requirement already satisfied: tensorflow-metadata==1.13.0 in /Users/teo/Desktop/recommend-ecommerce/venv/lib/python3.11/site-packages (1.13.0)\n",
      "Requirement already satisfied: absl-py<2.0.0,>=0.9 in /Users/teo/Desktop/recommend-ecommerce/venv/lib/python3.11/site-packages (from tensorflow-metadata==1.13.0) (1.4.0)\n",
      "Requirement already satisfied: googleapis-common-protos<2,>=1.52.0 in /Users/teo/Desktop/recommend-ecommerce/venv/lib/python3.11/site-packages (from tensorflow-metadata==1.13.0) (1.70.0)\n",
      "Requirement already satisfied: protobuf<4,>=3.13 in /Users/teo/Desktop/recommend-ecommerce/venv/lib/python3.11/site-packages (from tensorflow-metadata==1.13.0) (3.20.3)\n",
      "Requirement already satisfied: tensorflow-recommenders==0.7.3 in /Users/teo/Desktop/recommend-ecommerce/venv/lib/python3.11/site-packages (0.7.3)\n",
      "Requirement already satisfied: absl-py>=0.1.6 in /Users/teo/Desktop/recommend-ecommerce/venv/lib/python3.11/site-packages (from tensorflow-recommenders==0.7.3) (1.4.0)\n",
      "Requirement already satisfied: tensorflow-macos>=2.9.0 in /Users/teo/Desktop/recommend-ecommerce/venv/lib/python3.11/site-packages (from tensorflow-recommenders==0.7.3) (2.15.0)\n",
      "Requirement already satisfied: astunparse>=1.6.0 in /Users/teo/Desktop/recommend-ecommerce/venv/lib/python3.11/site-packages (from tensorflow-macos>=2.9.0->tensorflow-recommenders==0.7.3) (1.6.3)\n",
      "Requirement already satisfied: flatbuffers>=23.5.26 in /Users/teo/Desktop/recommend-ecommerce/venv/lib/python3.11/site-packages (from tensorflow-macos>=2.9.0->tensorflow-recommenders==0.7.3) (25.2.10)\n",
      "Requirement already satisfied: gast!=0.5.0,!=0.5.1,!=0.5.2,>=0.2.1 in /Users/teo/Desktop/recommend-ecommerce/venv/lib/python3.11/site-packages (from tensorflow-macos>=2.9.0->tensorflow-recommenders==0.7.3) (0.6.0)\n",
      "Requirement already satisfied: google-pasta>=0.1.1 in /Users/teo/Desktop/recommend-ecommerce/venv/lib/python3.11/site-packages (from tensorflow-macos>=2.9.0->tensorflow-recommenders==0.7.3) (0.2.0)\n",
      "Requirement already satisfied: h5py>=2.9.0 in /Users/teo/Desktop/recommend-ecommerce/venv/lib/python3.11/site-packages (from tensorflow-macos>=2.9.0->tensorflow-recommenders==0.7.3) (3.14.0)\n",
      "Requirement already satisfied: libclang>=13.0.0 in /Users/teo/Desktop/recommend-ecommerce/venv/lib/python3.11/site-packages (from tensorflow-macos>=2.9.0->tensorflow-recommenders==0.7.3) (18.1.1)\n",
      "Requirement already satisfied: ml-dtypes~=0.2.0 in /Users/teo/Desktop/recommend-ecommerce/venv/lib/python3.11/site-packages (from tensorflow-macos>=2.9.0->tensorflow-recommenders==0.7.3) (0.2.0)\n",
      "Requirement already satisfied: numpy<2.0.0,>=1.23.5 in /Users/teo/Desktop/recommend-ecommerce/venv/lib/python3.11/site-packages (from tensorflow-macos>=2.9.0->tensorflow-recommenders==0.7.3) (1.26.4)\n",
      "Requirement already satisfied: opt-einsum>=2.3.2 in /Users/teo/Desktop/recommend-ecommerce/venv/lib/python3.11/site-packages (from tensorflow-macos>=2.9.0->tensorflow-recommenders==0.7.3) (3.4.0)\n",
      "Requirement already satisfied: packaging in /Users/teo/Desktop/recommend-ecommerce/venv/lib/python3.11/site-packages (from tensorflow-macos>=2.9.0->tensorflow-recommenders==0.7.3) (25.0)\n",
      "Requirement already satisfied: protobuf!=4.21.0,!=4.21.1,!=4.21.2,!=4.21.3,!=4.21.4,!=4.21.5,<5.0.0dev,>=3.20.3 in /Users/teo/Desktop/recommend-ecommerce/venv/lib/python3.11/site-packages (from tensorflow-macos>=2.9.0->tensorflow-recommenders==0.7.3) (3.20.3)\n",
      "Requirement already satisfied: setuptools in /Users/teo/Desktop/recommend-ecommerce/venv/lib/python3.11/site-packages (from tensorflow-macos>=2.9.0->tensorflow-recommenders==0.7.3) (80.9.0)\n",
      "Requirement already satisfied: six>=1.12.0 in /Users/teo/Desktop/recommend-ecommerce/venv/lib/python3.11/site-packages (from tensorflow-macos>=2.9.0->tensorflow-recommenders==0.7.3) (1.17.0)\n",
      "Requirement already satisfied: termcolor>=1.1.0 in /Users/teo/Desktop/recommend-ecommerce/venv/lib/python3.11/site-packages (from tensorflow-macos>=2.9.0->tensorflow-recommenders==0.7.3) (3.1.0)\n",
      "Requirement already satisfied: typing-extensions>=3.6.6 in /Users/teo/Desktop/recommend-ecommerce/venv/lib/python3.11/site-packages (from tensorflow-macos>=2.9.0->tensorflow-recommenders==0.7.3) (4.15.0)\n",
      "Requirement already satisfied: wrapt<1.15,>=1.11.0 in /Users/teo/Desktop/recommend-ecommerce/venv/lib/python3.11/site-packages (from tensorflow-macos>=2.9.0->tensorflow-recommenders==0.7.3) (1.14.2)\n",
      "Requirement already satisfied: tensorflow-io-gcs-filesystem>=0.23.1 in /Users/teo/Desktop/recommend-ecommerce/venv/lib/python3.11/site-packages (from tensorflow-macos>=2.9.0->tensorflow-recommenders==0.7.3) (0.37.1)\n",
      "Requirement already satisfied: grpcio<2.0,>=1.24.3 in /Users/teo/Desktop/recommend-ecommerce/venv/lib/python3.11/site-packages (from tensorflow-macos>=2.9.0->tensorflow-recommenders==0.7.3) (1.74.0)\n",
      "Requirement already satisfied: tensorboard<2.16,>=2.15 in /Users/teo/Desktop/recommend-ecommerce/venv/lib/python3.11/site-packages (from tensorflow-macos>=2.9.0->tensorflow-recommenders==0.7.3) (2.15.2)\n",
      "Requirement already satisfied: tensorflow-estimator<2.16,>=2.15.0 in /Users/teo/Desktop/recommend-ecommerce/venv/lib/python3.11/site-packages (from tensorflow-macos>=2.9.0->tensorflow-recommenders==0.7.3) (2.15.0)\n",
      "Requirement already satisfied: keras<2.16,>=2.15.0 in /Users/teo/Desktop/recommend-ecommerce/venv/lib/python3.11/site-packages (from tensorflow-macos>=2.9.0->tensorflow-recommenders==0.7.3) (2.15.0)\n",
      "Requirement already satisfied: google-auth<3,>=1.6.3 in /Users/teo/Desktop/recommend-ecommerce/venv/lib/python3.11/site-packages (from tensorboard<2.16,>=2.15->tensorflow-macos>=2.9.0->tensorflow-recommenders==0.7.3) (2.40.3)\n",
      "Requirement already satisfied: google-auth-oauthlib<2,>=0.5 in /Users/teo/Desktop/recommend-ecommerce/venv/lib/python3.11/site-packages (from tensorboard<2.16,>=2.15->tensorflow-macos>=2.9.0->tensorflow-recommenders==0.7.3) (1.2.2)\n",
      "Requirement already satisfied: markdown>=2.6.8 in /Users/teo/Desktop/recommend-ecommerce/venv/lib/python3.11/site-packages (from tensorboard<2.16,>=2.15->tensorflow-macos>=2.9.0->tensorflow-recommenders==0.7.3) (3.8.2)\n",
      "Requirement already satisfied: requests<3,>=2.21.0 in /Users/teo/Desktop/recommend-ecommerce/venv/lib/python3.11/site-packages (from tensorboard<2.16,>=2.15->tensorflow-macos>=2.9.0->tensorflow-recommenders==0.7.3) (2.32.5)\n",
      "Requirement already satisfied: tensorboard-data-server<0.8.0,>=0.7.0 in /Users/teo/Desktop/recommend-ecommerce/venv/lib/python3.11/site-packages (from tensorboard<2.16,>=2.15->tensorflow-macos>=2.9.0->tensorflow-recommenders==0.7.3) (0.7.2)\n",
      "Requirement already satisfied: werkzeug>=1.0.1 in /Users/teo/Desktop/recommend-ecommerce/venv/lib/python3.11/site-packages (from tensorboard<2.16,>=2.15->tensorflow-macos>=2.9.0->tensorflow-recommenders==0.7.3) (3.1.3)\n",
      "Requirement already satisfied: cachetools<6.0,>=2.0.0 in /Users/teo/Desktop/recommend-ecommerce/venv/lib/python3.11/site-packages (from google-auth<3,>=1.6.3->tensorboard<2.16,>=2.15->tensorflow-macos>=2.9.0->tensorflow-recommenders==0.7.3) (5.5.2)\n",
      "Requirement already satisfied: pyasn1-modules>=0.2.1 in /Users/teo/Desktop/recommend-ecommerce/venv/lib/python3.11/site-packages (from google-auth<3,>=1.6.3->tensorboard<2.16,>=2.15->tensorflow-macos>=2.9.0->tensorflow-recommenders==0.7.3) (0.4.2)\n",
      "Requirement already satisfied: rsa<5,>=3.1.4 in /Users/teo/Desktop/recommend-ecommerce/venv/lib/python3.11/site-packages (from google-auth<3,>=1.6.3->tensorboard<2.16,>=2.15->tensorflow-macos>=2.9.0->tensorflow-recommenders==0.7.3) (4.9.1)\n",
      "Requirement already satisfied: requests-oauthlib>=0.7.0 in /Users/teo/Desktop/recommend-ecommerce/venv/lib/python3.11/site-packages (from google-auth-oauthlib<2,>=0.5->tensorboard<2.16,>=2.15->tensorflow-macos>=2.9.0->tensorflow-recommenders==0.7.3) (2.0.0)\n",
      "Requirement already satisfied: charset_normalizer<4,>=2 in /Users/teo/Desktop/recommend-ecommerce/venv/lib/python3.11/site-packages (from requests<3,>=2.21.0->tensorboard<2.16,>=2.15->tensorflow-macos>=2.9.0->tensorflow-recommenders==0.7.3) (3.4.3)\n",
      "Requirement already satisfied: idna<4,>=2.5 in /Users/teo/Desktop/recommend-ecommerce/venv/lib/python3.11/site-packages (from requests<3,>=2.21.0->tensorboard<2.16,>=2.15->tensorflow-macos>=2.9.0->tensorflow-recommenders==0.7.3) (3.10)\n",
      "Requirement already satisfied: urllib3<3,>=1.21.1 in /Users/teo/Desktop/recommend-ecommerce/venv/lib/python3.11/site-packages (from requests<3,>=2.21.0->tensorboard<2.16,>=2.15->tensorflow-macos>=2.9.0->tensorflow-recommenders==0.7.3) (2.5.0)\n",
      "Requirement already satisfied: certifi>=2017.4.17 in /Users/teo/Desktop/recommend-ecommerce/venv/lib/python3.11/site-packages (from requests<3,>=2.21.0->tensorboard<2.16,>=2.15->tensorflow-macos>=2.9.0->tensorflow-recommenders==0.7.3) (2025.8.3)\n",
      "Requirement already satisfied: pyasn1>=0.1.3 in /Users/teo/Desktop/recommend-ecommerce/venv/lib/python3.11/site-packages (from rsa<5,>=3.1.4->google-auth<3,>=1.6.3->tensorboard<2.16,>=2.15->tensorflow-macos>=2.9.0->tensorflow-recommenders==0.7.3) (0.6.1)\n",
      "Requirement already satisfied: wheel<1.0,>=0.23.0 in /Users/teo/Desktop/recommend-ecommerce/venv/lib/python3.11/site-packages (from astunparse>=1.6.0->tensorflow-macos>=2.9.0->tensorflow-recommenders==0.7.3) (0.45.1)\n",
      "Requirement already satisfied: oauthlib>=3.0.0 in /Users/teo/Desktop/recommend-ecommerce/venv/lib/python3.11/site-packages (from requests-oauthlib>=0.7.0->google-auth-oauthlib<2,>=0.5->tensorboard<2.16,>=2.15->tensorflow-macos>=2.9.0->tensorflow-recommenders==0.7.3) (3.3.1)\n",
      "Requirement already satisfied: MarkupSafe>=2.1.1 in /Users/teo/Desktop/recommend-ecommerce/venv/lib/python3.11/site-packages (from werkzeug>=1.0.1->tensorboard<2.16,>=2.15->tensorflow-macos>=2.9.0->tensorflow-recommenders==0.7.3) (3.0.2)\n",
      "Collecting annoy\n",
      "  Downloading annoy-1.17.3.tar.gz (647 kB)\n",
      "\u001b[2K     \u001b[90m━━━━━━━━━━━━━━━━━━━━━━━━━━━━━━━━━━━━━━━━\u001b[0m \u001b[32m647.5/647.5 kB\u001b[0m \u001b[31m25.2 MB/s\u001b[0m  \u001b[33m0:00:00\u001b[0m\n",
      "\u001b[?25h  Preparing metadata (setup.py) ... \u001b[?25ldone\n",
      "\u001b[?25hCollecting hnswlib\n",
      "  Downloading hnswlib-0.8.0.tar.gz (36 kB)\n",
      "  Installing build dependencies ... \u001b[?25ldone\n",
      "\u001b[?25h  Getting requirements to build wheel ... \u001b[?25ldone\n",
      "\u001b[?25h  Preparing metadata (pyproject.toml) ... \u001b[?25ldone\n",
      "\u001b[?25hRequirement already satisfied: numpy in /Users/teo/Desktop/recommend-ecommerce/venv/lib/python3.11/site-packages (from hnswlib) (1.26.4)\n",
      "Building wheels for collected packages: annoy, hnswlib\n",
      "\u001b[33m  DEPRECATION: Building 'annoy' using the legacy setup.py bdist_wheel mechanism, which will be removed in a future version. pip 25.3 will enforce this behaviour change. A possible replacement is to use the standardized build interface by setting the `--use-pep517` option, (possibly combined with `--no-build-isolation`), or adding a `pyproject.toml` file to the source tree of 'annoy'. Discussion can be found at https://github.com/pypa/pip/issues/6334\u001b[0m\u001b[33m\n",
      "\u001b[0m  Building wheel for annoy (setup.py) ... \u001b[?25ldone\n",
      "\u001b[?25h  Created wheel for annoy: filename=annoy-1.17.3-cp311-cp311-macosx_14_0_arm64.whl size=61704 sha256=9eb17d5d434bd457ab6364b018545aaef499d5e961d1912620e39bb1bfa7c3c2\n",
      "  Stored in directory: /Users/teo/Library/Caches/pip/wheels/33/e5/58/0a3e34b92bedf09b4c57e37a63ff395ade6f6c1099ba59877c\n",
      "  Building wheel for hnswlib (pyproject.toml) ... \u001b[?25ldone\n",
      "\u001b[?25h  Created wheel for hnswlib: filename=hnswlib-0.8.0-cp311-cp311-macosx_14_0_arm64.whl size=193288 sha256=f6bd3568318311bd0641260726f1cdf25792497d9b42accf92d97c6a34a4f518\n",
      "  Stored in directory: /Users/teo/Library/Caches/pip/wheels/ea/4e/27/39aebca9958719776e36fada290845a7ef10f053ad70e22ceb\n",
      "Successfully built annoy hnswlib\n",
      "Installing collected packages: annoy, hnswlib\n",
      "\u001b[2K   \u001b[90m━━━━━━━━━━━━━━━━━━━━━━━━━━━━━━━━━━━━━━━━\u001b[0m \u001b[32m2/2\u001b[0m [hnswlib]\n",
      "\u001b[1A\u001b[2KSuccessfully installed annoy-1.17.3 hnswlib-0.8.0\n"
     ]
    }
   ],
   "source": [
    "# This notebook is for Item–Query Embedding Retrieval practice \n",
    "# (embedding was trained in the previous notebook, this one focuses on retrieval)\n",
    "\n",
    "!pip install tensorflow-metadata==1.13.0\n",
    "!pip install tensorflow-recommenders==0.7.3\n",
    "!pip install annoy hnswlib"
   ]
  },
  {
   "cell_type": "code",
   "execution_count": 3,
   "metadata": {
    "colab": {
     "base_uri": "https://localhost:8080/"
    },
    "executionInfo": {
     "elapsed": 17597,
     "status": "ok",
     "timestamp": 1688191171526,
     "user": {
      "displayName": "Tae Oh Kim",
      "userId": "13246201434683004107"
     },
     "user_tz": -540
    },
    "id": "M6YX7HukFUm1",
    "outputId": "e16fc874-8cb5-4381-f709-7b5680fa664a"
   },
   "outputs": [],
   "source": [
    "# Set local data path\n",
    "rootpath = \"../Data/\""
   ]
  },
  {
   "cell_type": "code",
   "execution_count": 4,
   "metadata": {
    "executionInfo": {
     "elapsed": 670,
     "status": "ok",
     "timestamp": 1688191173361,
     "user": {
      "displayName": "Tae Oh Kim",
      "userId": "13246201434683004107"
     },
     "user_tz": -540
    },
    "id": "Hc5U7LRMFZzQ"
   },
   "outputs": [],
   "source": [
    "import pandas as pd"
   ]
  },
  {
   "cell_type": "code",
   "execution_count": 5,
   "metadata": {
    "executionInfo": {
     "elapsed": 906,
     "status": "ok",
     "timestamp": 1688191175332,
     "user": {
      "displayName": "Tae Oh Kim",
      "userId": "13246201434683004107"
     },
     "user_tz": -540
    },
    "id": "QBAyARsqF0un"
   },
   "outputs": [],
   "source": [
    "train = pd.read_csv(\"../Data/train.csv\", encoding=\"ISO-8859-1\")"
   ]
  },
  {
   "cell_type": "code",
   "execution_count": 6,
   "metadata": {
    "executionInfo": {
     "elapsed": 6,
     "status": "ok",
     "timestamp": 1688191175334,
     "user": {
      "displayName": "Tae Oh Kim",
      "userId": "13246201434683004107"
     },
     "user_tz": -540
    },
    "id": "K2QejXxAF2HG"
   },
   "outputs": [],
   "source": [
    "items = train[['product_uid', 'product_title']].drop_duplicates()"
   ]
  },
  {
   "cell_type": "code",
   "execution_count": 8,
   "metadata": {
    "colab": {
     "base_uri": "https://localhost:8080/",
     "height": 424
    },
    "executionInfo": {
     "elapsed": 6,
     "status": "ok",
     "timestamp": 1688191175334,
     "user": {
      "displayName": "Tae Oh Kim",
      "userId": "13246201434683004107"
     },
     "user_tz": -540
    },
    "id": "-no6s330F6Kw",
    "outputId": "3d81f068-a5c8-4fa1-bce8-0d1a891f0ae7"
   },
   "outputs": [
    {
     "data": {
      "text/html": [
       "<div>\n",
       "<style scoped>\n",
       "    .dataframe tbody tr th:only-of-type {\n",
       "        vertical-align: middle;\n",
       "    }\n",
       "\n",
       "    .dataframe tbody tr th {\n",
       "        vertical-align: top;\n",
       "    }\n",
       "\n",
       "    .dataframe thead th {\n",
       "        text-align: right;\n",
       "    }\n",
       "</style>\n",
       "<table border=\"1\" class=\"dataframe\">\n",
       "  <thead>\n",
       "    <tr style=\"text-align: right;\">\n",
       "      <th></th>\n",
       "      <th>product_uid</th>\n",
       "      <th>product_title</th>\n",
       "    </tr>\n",
       "  </thead>\n",
       "  <tbody>\n",
       "    <tr>\n",
       "      <th>0</th>\n",
       "      <td>100001</td>\n",
       "      <td>Simpson Strong-Tie 12-Gauge Angle</td>\n",
       "    </tr>\n",
       "    <tr>\n",
       "      <th>2</th>\n",
       "      <td>100002</td>\n",
       "      <td>BEHR Premium Textured DeckOver 1-gal. #SC-141 ...</td>\n",
       "    </tr>\n",
       "    <tr>\n",
       "      <th>3</th>\n",
       "      <td>100005</td>\n",
       "      <td>Delta Vero 1-Handle Shower Only Faucet Trim Ki...</td>\n",
       "    </tr>\n",
       "    <tr>\n",
       "      <th>5</th>\n",
       "      <td>100006</td>\n",
       "      <td>Whirlpool 1.9 cu. ft. Over the Range Convectio...</td>\n",
       "    </tr>\n",
       "    <tr>\n",
       "      <th>8</th>\n",
       "      <td>100007</td>\n",
       "      <td>Lithonia Lighting Quantum 2-Light Black LED Em...</td>\n",
       "    </tr>\n",
       "    <tr>\n",
       "      <th>...</th>\n",
       "      <td>...</td>\n",
       "      <td>...</td>\n",
       "    </tr>\n",
       "    <tr>\n",
       "      <th>74062</th>\n",
       "      <td>206638</td>\n",
       "      <td>Atlantic Windowpane 576 CD or 192 DVD Blu-Ray ...</td>\n",
       "    </tr>\n",
       "    <tr>\n",
       "      <th>74063</th>\n",
       "      <td>206639</td>\n",
       "      <td>Philips 40-Watt Halogen R20 Flood Light Bulb (...</td>\n",
       "    </tr>\n",
       "    <tr>\n",
       "      <th>74064</th>\n",
       "      <td>206641</td>\n",
       "      <td>Schlage Camelot In-Active Aged Bronze Handlese...</td>\n",
       "    </tr>\n",
       "    <tr>\n",
       "      <th>74065</th>\n",
       "      <td>206648</td>\n",
       "      <td>Plastec 11 in. x 24 in. Rose Garden Wall Decor...</td>\n",
       "    </tr>\n",
       "    <tr>\n",
       "      <th>74066</th>\n",
       "      <td>206650</td>\n",
       "      <td>LICHTENBERG Pool Blue No. 918 Millennial Ryan ...</td>\n",
       "    </tr>\n",
       "  </tbody>\n",
       "</table>\n",
       "<p>54682 rows × 2 columns</p>\n",
       "</div>"
      ],
      "text/plain": [
       "       product_uid                                      product_title\n",
       "0           100001                  Simpson Strong-Tie 12-Gauge Angle\n",
       "2           100002  BEHR Premium Textured DeckOver 1-gal. #SC-141 ...\n",
       "3           100005  Delta Vero 1-Handle Shower Only Faucet Trim Ki...\n",
       "5           100006  Whirlpool 1.9 cu. ft. Over the Range Convectio...\n",
       "8           100007  Lithonia Lighting Quantum 2-Light Black LED Em...\n",
       "...            ...                                                ...\n",
       "74062       206638  Atlantic Windowpane 576 CD or 192 DVD Blu-Ray ...\n",
       "74063       206639  Philips 40-Watt Halogen R20 Flood Light Bulb (...\n",
       "74064       206641  Schlage Camelot In-Active Aged Bronze Handlese...\n",
       "74065       206648  Plastec 11 in. x 24 in. Rose Garden Wall Decor...\n",
       "74066       206650  LICHTENBERG Pool Blue No. 918 Millennial Ryan ...\n",
       "\n",
       "[54682 rows x 2 columns]"
      ]
     },
     "execution_count": 8,
     "metadata": {},
     "output_type": "execute_result"
    }
   ],
   "source": [
    "items"
   ]
  },
  {
   "cell_type": "code",
   "execution_count": 14,
   "metadata": {
    "executionInfo": {
     "elapsed": 1,
     "status": "ok",
     "timestamp": 1688191175616,
     "user": {
      "displayName": "Tae Oh Kim",
      "userId": "13246201434683004107"
     },
     "user_tz": -540
    },
    "id": "wINLBiClGYRD"
   },
   "outputs": [],
   "source": [
    "import numpy as np"
   ]
  },
  {
   "cell_type": "code",
   "execution_count": 16,
   "metadata": {
    "executionInfo": {
     "elapsed": 266,
     "status": "ok",
     "timestamp": 1688191176278,
     "user": {
      "displayName": "Tae Oh Kim",
      "userId": "13246201434683004107"
     },
     "user_tz": -540
    },
    "id": "aLH2Hox3F7V7"
   },
   "outputs": [],
   "source": [
    "# Load pre-computed item embeddings from local Data folder\n",
    "with open(\"../Data/embedding.npy\", \"rb\") as f:\n",
    "    embeddings = np.load(f)"
   ]
  },
  {
   "cell_type": "code",
   "execution_count": 17,
   "metadata": {
    "colab": {
     "base_uri": "https://localhost:8080/"
    },
    "executionInfo": {
     "elapsed": 4,
     "status": "ok",
     "timestamp": 1688191177308,
     "user": {
      "displayName": "Tae Oh Kim",
      "userId": "13246201434683004107"
     },
     "user_tz": -540
    },
    "id": "J0DIxrxFGXb5",
    "outputId": "1c4df0f3-f268-4fc4-ef8d-491818a5480b"
   },
   "outputs": [
    {
     "data": {
      "text/plain": [
       "(54682, 16)"
      ]
     },
     "execution_count": 17,
     "metadata": {},
     "output_type": "execute_result"
    }
   ],
   "source": [
    "embeddings.shape"
   ]
  },
  {
   "cell_type": "code",
   "execution_count": 18,
   "metadata": {
    "executionInfo": {
     "elapsed": 2743,
     "status": "ok",
     "timestamp": 1688191180975,
     "user": {
      "displayName": "Tae Oh Kim",
      "userId": "13246201434683004107"
     },
     "user_tz": -540
    },
    "id": "XzHlhj1gJm13"
   },
   "outputs": [],
   "source": [
    "import tensorflow as tf"
   ]
  },
  {
   "cell_type": "code",
   "execution_count": 19,
   "metadata": {
    "executionInfo": {
     "elapsed": 13,
     "status": "ok",
     "timestamp": 1688191180976,
     "user": {
      "displayName": "Tae Oh Kim",
      "userId": "13246201434683004107"
     },
     "user_tz": -540
    },
    "id": "1uRPaOf5Kc6O"
   },
   "outputs": [],
   "source": [
    "import tensorflow_recommenders as tfrs"
   ]
  },
  {
   "cell_type": "code",
   "execution_count": 20,
   "metadata": {
    "executionInfo": {
     "elapsed": 1605,
     "status": "ok",
     "timestamp": 1688191182936,
     "user": {
      "displayName": "Tae Oh Kim",
      "userId": "13246201434683004107"
     },
     "user_tz": -540
    },
    "id": "FIXyKb9kGazr"
   },
   "outputs": [
    {
     "name": "stderr",
     "output_type": "stream",
     "text": [
      "2025-08-29 03:19:45.388320: I metal_plugin/src/device/metal_device.cc:1154] Metal device set to: Apple M3\n",
      "2025-08-29 03:19:45.388364: I metal_plugin/src/device/metal_device.cc:296] systemMemory: 16.00 GB\n",
      "2025-08-29 03:19:45.388389: I metal_plugin/src/device/metal_device.cc:313] maxCacheSize: 5.33 GB\n",
      "2025-08-29 03:19:45.388546: I tensorflow/core/common_runtime/pluggable_device/pluggable_device_factory.cc:306] Could not identify NUMA node of platform GPU ID 0, defaulting to 0. Your kernel may not have been built with NUMA support.\n",
      "2025-08-29 03:19:45.388579: I tensorflow/core/common_runtime/pluggable_device/pluggable_device_factory.cc:272] Created TensorFlow device (/job:localhost/replica:0/task:0/device:GPU:0 with 0 MB memory) -> physical PluggableDevice (device: 0, name: METAL, pci bus id: <undefined>)\n"
     ]
    }
   ],
   "source": [
    "embedding_ds = tf.data.Dataset.from_tensor_slices(embeddings)"
   ]
  },
  {
   "cell_type": "code",
   "execution_count": 21,
   "metadata": {
    "colab": {
     "base_uri": "https://localhost:8080/"
    },
    "executionInfo": {
     "elapsed": 25,
     "status": "ok",
     "timestamp": 1688191182938,
     "user": {
      "displayName": "Tae Oh Kim",
      "userId": "13246201434683004107"
     },
     "user_tz": -540
    },
    "id": "Rkqz66T0KjZh",
    "outputId": "d9e106b0-a23c-4f91-821f-fcd37e272f25"
   },
   "outputs": [
    {
     "name": "stdout",
     "output_type": "stream",
     "text": [
      "[[-0.38924745 -0.39065138 -0.56249106  0.22164929 -0.58737195  0.57823646\n",
      "  -0.04811786 -0.12114553  0.10812668  0.39210144 -0.6589462  -0.48557952\n",
      "  -0.00273136  0.31075844 -0.03955091 -0.12801108]]\n",
      "[[-0.4242165  -0.40162492 -0.5722065   0.22789298 -0.5901483   0.591919\n",
      "  -0.03703084 -0.10564349 -0.802482   -0.6809432   0.4003952   0.65503156\n",
      "  -0.7878822  -0.45608845 -0.66498524 -0.8190717 ]]\n"
     ]
    }
   ],
   "source": [
    "for i in embedding_ds.take(2).batch(1).as_numpy_iterator():\n",
    "    print(i)"
   ]
  },
  {
   "cell_type": "code",
   "execution_count": 22,
   "metadata": {
    "colab": {
     "base_uri": "https://localhost:8080/"
    },
    "executionInfo": {
     "elapsed": 23,
     "status": "ok",
     "timestamp": 1688191182939,
     "user": {
      "displayName": "Tae Oh Kim",
      "userId": "13246201434683004107"
     },
     "user_tz": -540
    },
    "id": "PtTy4hG4Gt6i",
    "outputId": "dd24a6ba-b57f-4133-83b5-e650a8950a96"
   },
   "outputs": [],
   "source": [
    "# Create a tf.data.Dataset from the items dictionary and extract only product_uid\n",
    "uid_ds = tf.data.Dataset.from_tensor_slices(dict(items)) \\\n",
    "            .map(lambda x: x[\"product_uid\"])"
   ]
  },
  {
   "cell_type": "code",
   "execution_count": 24,
   "metadata": {
    "colab": {
     "base_uri": "https://localhost:8080/"
    },
    "executionInfo": {
     "elapsed": 7247,
     "status": "ok",
     "timestamp": 1688191190176,
     "user": {
      "displayName": "Tae Oh Kim",
      "userId": "13246201434683004107"
     },
     "user_tz": -540
    },
    "id": "YfYHZA2FJ9yh",
    "outputId": "a813e034-27f0-4332-cd38-2e6b6a6584f9"
   },
   "outputs": [
    {
     "name": "stdout",
     "output_type": "stream",
     "text": [
      "WARNING:tensorflow:No training configuration found in save file, so the model was *not* compiled. Compile it manually.\n"
     ]
    }
   ],
   "source": [
    "new_model = tf.keras.models.load_model(\"../Data/siamese_white_space\")\n",
    "\n",
    "# Compile manually if you want to continue training\n",
    "new_model.compile(optimizer=\"adam\")"
   ]
  },
  {
   "cell_type": "code",
   "execution_count": 26,
   "metadata": {
    "colab": {
     "base_uri": "https://localhost:8080/"
    },
    "executionInfo": {
     "elapsed": 1608,
     "status": "ok",
     "timestamp": 1688191191761,
     "user": {
      "displayName": "Tae Oh Kim",
      "userId": "13246201434683004107"
     },
     "user_tz": -540
    },
    "id": "THVG7XvTKRhF",
    "outputId": "e31d9157-47cd-4fff-992f-80d1df2fea97"
   },
   "outputs": [
    {
     "name": "stdout",
     "output_type": "stream",
     "text": [
      "Annoy index built successfully.\n"
     ]
    }
   ],
   "source": [
    "from annoy import AnnoyIndex\n",
    "\n",
    "# Build an Annoy retrieval index using the trained embeddings\n",
    "dim = embeddings.shape[1]\n",
    "ann_index = AnnoyIndex(dim, 'angular')  # 'angular' ≈ cosine similarity\n",
    "\n",
    "# Index the item embeddings with their corresponding indices\n",
    "for i, vec in enumerate(embeddings):\n",
    "    ann_index.add_item(i, vec)\n",
    "\n",
    "# Build the index (10 trees, can increase for better recall)\n",
    "ann_index.build(10)\n",
    "\n",
    "print(\"Annoy index built successfully.\")"
   ]
  },
  {
   "cell_type": "code",
   "execution_count": 28,
   "metadata": {
    "colab": {
     "base_uri": "https://localhost:8080/"
    },
    "executionInfo": {
     "elapsed": 271,
     "status": "ok",
     "timestamp": 1688191572581,
     "user": {
      "displayName": "Tae Oh Kim",
      "userId": "13246201434683004107"
     },
     "user_tz": -540
    },
    "id": "KY6THYhAKZo-",
    "outputId": "4311790a-9887-45d5-8510-626b2f9d3902"
   },
   "outputs": [
    {
     "name": "stdout",
     "output_type": "stream",
     "text": [
      "Retrieved indices: [21896, 34258, 13332, 26254, 6044]\n",
      "Distances: [0.06581147015094757, 0.06581147015094757, 0.08025649935007095, 0.09286623448133469, 0.09926249086856842]\n"
     ]
    }
   ],
   "source": [
    "# Encode query into embedding (pass string tensor directly)\n",
    "query_vec = new_model(tf.constant([\"table\"]))\n",
    "\n",
    "# Retrieve top-5 nearest items from Annoy index\n",
    "idxs, dists = ann_index.get_nns_by_vector(query_vec[0].numpy(), 5, include_distances=True)\n",
    "\n",
    "print(\"Retrieved indices:\", idxs)\n",
    "print(\"Distances:\", dists)"
   ]
  },
  {
   "cell_type": "code",
   "execution_count": 30,
   "metadata": {
    "colab": {
     "base_uri": "https://localhost:8080/"
    },
    "executionInfo": {
     "elapsed": 317,
     "status": "ok",
     "timestamp": 1688191582461,
     "user": {
      "displayName": "Tae Oh Kim",
      "userId": "13246201434683004107"
     },
     "user_tz": -540
    },
    "id": "1fD9YVC8Dyni",
    "outputId": "b73591c6-5844-44ee-f712-6082e293bcba"
   },
   "outputs": [
    {
     "name": "stdout",
     "output_type": "stream",
     "text": [
      "tf.Tensor(\n",
      "[[1.         1.         0.9412531  0.9342265  0.9310173  0.92739373\n",
      "  0.92525333 0.9237086  0.92249984 0.9169545 ]], shape=(1, 10), dtype=float32)\n",
      "tf.Tensor([[103139 116311 126536 107753 112135 147145 103352 150437 142134 105487]], shape=(1, 10), dtype=int64)\n"
     ]
    }
   ],
   "source": [
    "def annoy_search(query_text, k=10):\n",
    "    # Encode query into embedding\n",
    "    query_vec = new_model(tf.constant([query_text]))[0].numpy()\n",
    "    \n",
    "    # Search top-k nearest items\n",
    "    idxs, dists = ann_index.get_nns_by_vector(query_vec, k, include_distances=True)\n",
    "    \n",
    "    # Convert distances to similarity-like scores\n",
    "    scores = [1 - d for d in dists]  \n",
    "    \n",
    "    # Wrap in Tensors to mimic ScaNN output format\n",
    "    return (\n",
    "        tf.constant([scores], dtype=tf.float32),\n",
    "        tf.constant([ [items[\"product_uid\"][i] for i in idxs] ], dtype=tf.int64)\n",
    "    )\n",
    "\n",
    "# Example usage\n",
    "scores, ids = annoy_search(\"desk\", k=10)\n",
    "print(scores)\n",
    "print(ids)"
   ]
  },
  {
   "cell_type": "code",
   "execution_count": 31,
   "metadata": {
    "colab": {
     "base_uri": "https://localhost:8080/"
    },
    "executionInfo": {
     "elapsed": 16139,
     "status": "ok",
     "timestamp": 1688191221234,
     "user": {
      "displayName": "Tae Oh Kim",
      "userId": "13246201434683004107"
     },
     "user_tz": -540
    },
    "id": "F66dV7m7LJrJ",
    "outputId": "4c4964cc-c224-4586-90ae-9f96f76d0407"
   },
   "outputs": [
    {
     "name": "stdout",
     "output_type": "stream",
     "text": [
      "Annoy index saved to ../Data/retrieval.ann\n"
     ]
    }
   ],
   "source": [
    "# Save Annoy index to file\n",
    "ann_index.save(\"../Data/retrieval.ann\")\n",
    "print(\"Annoy index saved to ../Data/retrieval.ann\")"
   ]
  }
 ],
 "metadata": {
  "accelerator": "GPU",
  "colab": {
   "authorship_tag": "ABX9TyN1xX5IS3nYo8b27gGyOtHO",
   "gpuType": "T4",
   "provenance": []
  },
  "kernelspec": {
   "display_name": "venv",
   "language": "python",
   "name": "python3"
  },
  "language_info": {
   "codemirror_mode": {
    "name": "ipython",
    "version": 3
   },
   "file_extension": ".py",
   "mimetype": "text/x-python",
   "name": "python",
   "nbconvert_exporter": "python",
   "pygments_lexer": "ipython3",
   "version": "3.11.13"
  }
 },
 "nbformat": 4,
 "nbformat_minor": 0
}
